{
 "cells": [
  {
   "cell_type": "markdown",
   "metadata": {},
   "source": [
    "# A&E testing 1\n",
    "\n",
    "This script is for some initial testing of the previous A&E data:\n",
    "<ul>\n",
    "<li>quick regression analysis</li>\n",
    "<li>plotting of variables previously made over time</li>\n",
    "</ul>\n",
    "\n"
   ]
  },
  {
   "cell_type": "code",
   "execution_count": 1,
   "metadata": {
    "collapsed": false
   },
   "outputs": [],
   "source": [
    "%matplotlib inline\n",
    "import pandas as pd\n",
    "import numpy as np\n",
    "import seaborn as sns\n",
    "import statsmodels.api as sm\n",
    "import matplotlib.pyplot as plt\n",
    "\n",
    "### vars for test_regressions function\n",
    "import statsmodels.formula.api as smf\n",
    "import patsy"
   ]
  },
  {
   "cell_type": "code",
   "execution_count": 2,
   "metadata": {
    "collapsed": false
   },
   "outputs": [],
   "source": [
    "dta = pd.read_csv('../3_Data/master_acute.csv')"
   ]
  },
  {
   "cell_type": "code",
   "execution_count": 3,
   "metadata": {
    "collapsed": false
   },
   "outputs": [
    {
     "data": {
      "text/html": [
       "<div>\n",
       "<table border=\"1\" class=\"dataframe\">\n",
       "  <thead>\n",
       "    <tr style=\"text-align: right;\">\n",
       "      <th></th>\n",
       "      <th>year</th>\n",
       "      <th>quarter</th>\n",
       "      <th>org_code</th>\n",
       "      <th>areateam</th>\n",
       "      <th>areateam_code</th>\n",
       "      <th>org</th>\n",
       "      <th>sha_code</th>\n",
       "      <th>v_4hr_targ</th>\n",
       "      <th>v_canc_elec</th>\n",
       "      <th>v_3</th>\n",
       "      <th>v_5</th>\n",
       "      <th>v_4</th>\n",
       "      <th>v_6</th>\n",
       "    </tr>\n",
       "  </thead>\n",
       "  <tbody>\n",
       "    <tr>\n",
       "      <th>0</th>\n",
       "      <td>2016</td>\n",
       "      <td>4</td>\n",
       "      <td>RF4</td>\n",
       "      <td>London Commissioning Region</td>\n",
       "      <td>NaN</td>\n",
       "      <td>Barking, Havering And Redbridge University Hos...</td>\n",
       "      <td>Y56</td>\n",
       "      <td>0.129234</td>\n",
       "      <td>2.797023</td>\n",
       "      <td>842.820739</td>\n",
       "      <td>0.122619</td>\n",
       "      <td>0.079995</td>\n",
       "      <td>0.266936</td>\n",
       "    </tr>\n",
       "  </tbody>\n",
       "</table>\n",
       "</div>"
      ],
      "text/plain": [
       "   year  quarter org_code                     areateam areateam_code  \\\n",
       "0  2016        4      RF4  London Commissioning Region           NaN   \n",
       "\n",
       "                                                 org sha_code  v_4hr_targ  \\\n",
       "0  Barking, Havering And Redbridge University Hos...      Y56    0.129234   \n",
       "\n",
       "   v_canc_elec         v_3       v_5       v_4       v_6  \n",
       "0     2.797023  842.820739  0.122619  0.079995  0.266936  "
      ]
     },
     "execution_count": 3,
     "metadata": {},
     "output_type": "execute_result"
    }
   ],
   "source": [
    "dta.head(1)"
   ]
  },
  {
   "cell_type": "code",
   "execution_count": 4,
   "metadata": {
    "collapsed": false
   },
   "outputs": [
    {
     "data": {
      "text/plain": [
       "Index(['year', 'quarter', 'org_code', 'areateam', 'areateam_code', 'org',\n",
       "       'sha_code', 'v_4hr_targ', 'v_canc_elec', 'v_3', 'v_5', 'v_4', 'v_6'],\n",
       "      dtype='object')"
      ]
     },
     "execution_count": 4,
     "metadata": {},
     "output_type": "execute_result"
    }
   ],
   "source": [
    "dta.columns"
   ]
  },
  {
   "cell_type": "markdown",
   "metadata": {},
   "source": [
    "# Define outliers function"
   ]
  },
  {
   "cell_type": "code",
   "execution_count": 19,
   "metadata": {
    "collapsed": true
   },
   "outputs": [],
   "source": [
    "def outlier_removal(df,year,quarter,x_var,outlier_plot=False):\n",
    "    \"\"\"\n",
    "    filter outliers and remove them, optional plotting to view the changes to distributions\n",
    "    \"\"\"\n",
    "    y_var1 = 'v_4hr_targ'\n",
    "    y_var2 = 'v_canc_elec'\n",
    "    \n",
    "    dff = df[(df['year'] == year) & (df['quarter'] == quarter)].copy()\n",
    "    \n",
    "    #### Remove rows containing nan in x_var column (otherwise error with ln calcs)\n",
    "    dff.replace([np.inf, -np.inf], np.nan, inplace=True)\n",
    "    dff = dff[dff[x_var].notnull()]\n",
    "    \n",
    "    if outlier_plot == True:\n",
    "        fig2 = plt.figure(figsize=(15,15))\n",
    "        #### Scatters of original data\n",
    "        ## scatter and regression line for x_var\n",
    "        ax1 = plt.subplot(337)\n",
    "        ax1 = sns.boxplot(dff[x_var], vert=True)\n",
    "        ax2 = plt.subplot(338)\n",
    "        ax2 = dff[x_var].plot(kind='hist',bins=50)\n",
    "        ax2.axvline(dff[x_var].median(),color= 'r',label='median')\n",
    "        ax2.set_xlabel(x_var)\n",
    "        ax2 = dff[x_var].plot(kind='kde', grid=False,label='KDE')\n",
    "        \n",
    "        ## y_var1\n",
    "        ax4 = plt.subplot(331)\n",
    "        ax4 = sns.boxplot(dff[y_var1], vert=True)\n",
    "        ax5 = plt.subplot(332)\n",
    "        ax5 = dff[y_var1].plot(kind='hist',bins=50)\n",
    "        ax5.axvline(dff[y_var1].median(),color= 'r',label='median')\n",
    "        ax5.set_xlabel(y_var1)\n",
    "        ax5 = dff[y_var1].plot(kind='kde', grid=False,label='KDE')\n",
    "        \n",
    "        ## y_var2\n",
    "        ax7 = plt.subplot(334)\n",
    "        ax7 = sns.boxplot(dff[y_var2], vert=True)\n",
    "        ax8 = plt.subplot(335)\n",
    "        ax8 = dff[y_var2].plot(kind='hist',bins=50)\n",
    "        ax8.axvline(dff[y_var2].median(),color= 'r',label='median')\n",
    "        ax8.set_xlabel(y_var2)\n",
    "        ax8 = dff[y_var2].plot(kind='kde', grid=False,label='KDE')\n",
    "    \n",
    "    \n",
    "    #### filter out outliers\n",
    "    low = 0.01 # define limts\n",
    "    high = 0.99\n",
    "    quant_df = dff.quantile([low, high])\n",
    "    \n",
    "    #dff.sort(columns=['size'])[1:-1]\n",
    "    \n",
    "    \n",
    "    ## make mask for all 3vars\n",
    "    quant_mask = ( (dff[x_var] > quant_df[x_var].values.min()) & (dff[x_var] < quant_df[x_var].values.max()) &\n",
    "                  (dff[y_var1] > quant_df[y_var1].values.min()) & (dff[y_var1] < quant_df[y_var1].values.max()) &\n",
    "                  (dff[y_var2] > quant_df[y_var2].values.min()) & (dff[y_var2] < quant_df[y_var2].values.max())\n",
    "                 )\n",
    "    \n",
    "    \n",
    "    \n",
    "    #((df.regiment != 'Nighthawks') & (df['size'] > 986) )\n",
    "    size_1 = dff.shape[0]\n",
    "    dff = dff.loc[dff[quant_mask].index]\n",
    "    size_2 = dff.shape[0]\n",
    "    \n",
    "    print('Automatic filtering applied')\n",
    "    print('Trusts before: ', size_1)\n",
    "    print('Trusts after: ', size_2)\n",
    "    print('Perc removed: ', \"%.1f\" % (100*(size_1 - size_2)/size_1))\n",
    "    \n",
    "    #print(quant_df)\n",
    "    #print(dff[x_var].shape)\n",
    "    #print(quant_df.min())\n",
    "    #dff = dff[x_var] > \n",
    "    #dff[x_var].map(lambda x: x[(x>quant_df.min()) & (x < quant_df.max())])\n",
    "    \n",
    "    if outlier_plot == True:\n",
    "        #### plot new datasets\n",
    "        ax3 = plt.subplot(339)\n",
    "        dff[x_var].plot(kind='hist',bins=50)\n",
    "        ax3.axvline(dff[x_var].median(),color= 'r',label='median')\n",
    "        ax3.set_xlabel(x_var)\n",
    "        ax3 = dff[x_var].plot(kind='kde', grid=False,label='KDE')\n",
    "        ax3.set_ylim(ax2.get_ylim()) # set axis to be same as before for comparison\n",
    "        ax3.set_xlim(ax2.get_xlim())\n",
    "        \n",
    "        ax6 = plt.subplot(333)\n",
    "        dff[y_var1].plot(kind='hist',bins=50)\n",
    "        ax6.axvline(dff[y_var1].median(),color= 'r',label='median')\n",
    "        ax6.set_xlabel(y_var1)\n",
    "        ax6 = dff[y_var1].plot(kind='kde', grid=False,label='KDE')\n",
    "        ax6.set_ylim(ax5.get_ylim()) # set axis to be same as before for comparison\n",
    "        ax6.set_xlim(ax5.get_xlim())\n",
    "        \n",
    "        ax9 = plt.subplot(336)\n",
    "        dff[y_var2].plot(kind='hist',bins=50)\n",
    "        ax9.axvline(dff[y_var2].median(),color= 'r',label='median')\n",
    "        ax9.set_xlabel(y_var2)\n",
    "        ax9 = dff[y_var2].plot(kind='kde', grid=False,label='KDE')\n",
    "        ax9.set_ylim(ax8.get_ylim()) # set axis to be same as before for comparison\n",
    "        ax9.set_xlim(ax8.get_xlim())\n",
    "    \n",
    "    \n",
    "    \n",
    "    return(dff)"
   ]
  },
  {
   "cell_type": "markdown",
   "metadata": {},
   "source": [
    "# Regression tool function"
   ]
  },
  {
   "cell_type": "code",
   "execution_count": 168,
   "metadata": {
    "collapsed": false
   },
   "outputs": [
    {
     "name": "stderr",
     "output_type": "stream",
     "text": [
      "C:\\Anaconda3\\envs\\stable2\\lib\\site-packages\\ipykernel\\__main__.py:15: RuntimeWarning: divide by zero encountered in log\n"
     ]
    },
    {
     "name": "stdout",
     "output_type": "stream",
     "text": [
      "Automatic filtering applied\n",
      "Trusts before:  61\n",
      "Trusts after:  55\n",
      "Perc removed:  9.8\n"
     ]
    },
    {
     "name": "stderr",
     "output_type": "stream",
     "text": [
      "C:\\Anaconda3\\envs\\stable2\\lib\\site-packages\\matplotlib\\text.py:2138: UserWarning: You have used the `textcoords` kwarg, but not the `xytext` kwarg.  This can lead to surprising results.\n",
      "  warnings.warn(\"You have used the `textcoords` kwarg, but not \"\n"
     ]
    },
    {
     "data": {
      "image/png": "[encoded data removed]",
      "text/plain": [
       "<matplotlib.figure.Figure at 0x126d9864080>"
      ]
     },
     "metadata": {},
     "output_type": "display_data"
    }
   ],
   "source": [
    "def test_regressions_quarter(df,year,quarter,x_var,xlog=False,y1log=False,y2log=False,\n",
    "                     ols_output=False,rm_outlier=False,outlier_plot=False):\n",
    "    \"\"\"\n",
    "    Function to calculate and show OLS results\n",
    "    \"\"\"\n",
    "    #### define the dependent variables\n",
    "    y_var1 = 'v_4hr_targ'\n",
    "    y_var2 = 'v_canc_elec'\n",
    "    \n",
    "    #### filter for quarter and year\n",
    "    dff = df[(df['year'] == year) & (df['quarter'] == quarter)].copy()\n",
    "       \n",
    "    #### optionality for taking ln of variables\n",
    "    if xlog == True:\n",
    "        dff[x_var] = np.log(dff[x_var])\n",
    "    \n",
    "    if y1log == True:\n",
    "        dff[y_var1] = np.log(dff[y_var1])\n",
    "    \n",
    "    if y2log == True:\n",
    "        dff[y_var2] = np.log(dff[y_var2])\n",
    "    \n",
    "    #### Remove rows containing nan in x_var column (otherwise error with ln calcs)\n",
    "    dff.replace([np.inf, -np.inf], np.nan, inplace=True)\n",
    "    dff = dff[dff[x_var].notnull()]\n",
    "    \n",
    "    if rm_outlier == True:\n",
    "        dff = outlier_removal(dff,year,quarter,x_var,outlier_plot) ### set option true for siltering plots\n",
    "    \n",
    "    #### conduct regression\n",
    "    ## y_var1\n",
    "    lm1 = []\n",
    "    lm1 = smf.ols(formula= y_var1 +' ~ ' + x_var, data=dff).fit()\n",
    "    #dff.sort_values(x_var,inplace=True)\n",
    "    x1=[]\n",
    "    x1 = patsy.dmatrix(x_var, data=dff)\n",
    "    preds1 = []\n",
    "    preds1 = lm1.predict(x1, transform=False)\n",
    "    \n",
    "    ## y_var2\n",
    "    lm2 = []\n",
    "    #lm2 = smf.ols(formula= y_var2 +' ~ ' , data=dff).fit() # how test for null model?\n",
    "    lm2 = smf.ols(formula= y_var2 +' ~ ' + x_var, data=dff).fit()\n",
    "    #dff.sort_values(x_var,inplace=True)\n",
    "    x2 = []\n",
    "    x2 = patsy.dmatrix(x_var, data=dff)\n",
    "    preds2 = []\n",
    "    preds2 = lm2.predict(x2, transform=False)\n",
    "    \n",
    "    \n",
    "    \n",
    "    #### Make plots\n",
    "    fig1 = plt.figure(figsize=(15,10))\n",
    "    \n",
    "    #### y_var1\n",
    "    ## scatter and regression line for y_var1\n",
    "    ax1 = plt.subplot(231)\n",
    "    ax1.scatter(x=dff[x_var], y = dff[y_var1])\n",
    "    ax1.plot(x1[:,1],preds1,c='red') #### [:,1] removes the constant line at x = 1.0\n",
    "    ax1.set_xlabel(x_var)\n",
    "    ax1.set_ylabel(y_var1)\n",
    "\n",
    "    ## histogram for y_var1\n",
    "    ax2 = plt.subplot(232)\n",
    "    ax2 = dff[y_var1].plot(kind = 'hist', bins = 50)\n",
    "    ax2.axvline(dff[y_var1].median(),color= 'r',label='median')\n",
    "    ax2.set_xlabel(y_var1)\n",
    "    ax2 = dff[y_var1].plot(kind='kde', grid=False,label='KDE')\n",
    "    #ax2.legend(loc='upper left',frameon= True)\n",
    "    #ax2.set_title('distribution of: %s' % (dv1_n))\n",
    "    \n",
    "    #### y_var2\n",
    "    ## scatter and regression line for y_var2\n",
    "    ax5 = plt.subplot(234)\n",
    "    ax5.scatter(x=dff[x_var], y = dff[y_var2])\n",
    "    ax5.plot(x2[:,1],preds2,c='red') #### [:,1] removes the constant line at x = 1.0\n",
    "    ax5.set_xlabel(x_var)\n",
    "    ax5.set_ylabel(y_var2)\n",
    "\n",
    "    ## histogram for y_var1\n",
    "    ax6 = plt.subplot(235)\n",
    "    ax6 = dff[y_var2].plot(kind = 'hist', bins = 50)\n",
    "    ax6.axvline(dff[y_var2].median(),color= 'r',label='median')\n",
    "    ax6.set_xlabel(y_var2)\n",
    "    ax6 = dff[y_var2].plot(kind='kde', grid=False,label='KDE')\n",
    "    #ax2.legend(loc='upper left',frameon= True)\n",
    "    #ax2.set_title('distribution of: %s' % (dv1_n))\n",
    "    \n",
    "    #### x_var\n",
    "    ## histogram for x_var\n",
    "    ax3 = plt.subplot(236)\n",
    "    ax3 = dff[x_var].plot(kind = 'hist', bins = 45)\n",
    "    ax3.axvline(dff[x_var].median(),color= 'r',label='median')\n",
    "    ax3.set_xlabel(x_var)\n",
    "    ax3 = dff[x_var].plot(kind='kde', grid=False,label='KDE')\n",
    "    #ax2.legend(loc='upper left',frameon= True)\n",
    "    #ax2.set_title('distribution of: %s' % (dv1_n))\n",
    "    \n",
    "    \n",
    "    #### OLS output\n",
    "    ## set up axes and then clear it all\n",
    "    ax4 = plt.subplot(233)\n",
    "    ax4.clear()\n",
    "    ax4.set_xticklabels([])\n",
    "    ax4.set_yticklabels([])\n",
    "    ax4.grid()\n",
    "    ax4.set_facecolor((1, 1, 1))\n",
    "    \n",
    "    #### add details of regression to plot\n",
    "    ## y_var1 details\n",
    "    ax4.annotate(y_var1,xy = (0,1),textcoords='axes fraction',fontsize=20)\n",
    "    \n",
    "    ax4.annotate('R-value:',xy=(0,0.9),fontsize=14)\n",
    "    ax4.annotate(np.sqrt(lm1.rsquared).round(3) ,xy=(0.3,0.9),fontsize=14 )\n",
    "    ax4.annotate('P-value:',xy=(0.7,0.9),fontsize=14)\n",
    "    ax4.annotate(\"{:.4f}\".format(lm1.pvalues.ix[x_var]) ,xy=(0.92,0.9),fontsize=14 )\n",
    "    \n",
    "    ax4.annotate('Model values:', xy=(0,0.8),fontsize=14)\n",
    "    ax4.annotate(lm1.params.round(3),xy = (0,0.65),textcoords='axes fraction')\n",
    "    ax4.annotate('Conf intervals:',xy=(0.7,0.8),fontsize=14)\n",
    "    ax4.annotate(lm1.conf_int().values.round(3),xy = (0.7,0.7),textcoords='axes fraction')\n",
    "    \n",
    "    ## y_var2 details\n",
    "    ax4.annotate(y_var2,xy = (0,0.5),textcoords='axes fraction',fontsize=20)\n",
    "    \n",
    "    ax4.annotate('R-value:',xy=(0,0.4),fontsize=14)\n",
    "    ax4.annotate(np.sqrt(lm2.rsquared).round(3) ,xy=(0.3,0.4),fontsize=14 )\n",
    "    ax4.annotate('P-value:',xy=(0.7,0.4),fontsize=14)\n",
    "    ax4.annotate(\"{:.4f}\".format(lm2.pvalues.ix[x_var]) ,xy=(0.92,0.4),fontsize=14 )\n",
    "    \n",
    "    ax4.annotate('Model values:', xy=(0,0.3),fontsize=14)\n",
    "    ax4.annotate(lm2.params.round(3),xy = (0,0.15),textcoords='axes fraction')\n",
    "    ax4.annotate('Conf intervals:',xy=(0.7,0.3),fontsize=14)\n",
    "    ax4.annotate(lm2.conf_int().values.round(3),xy = (0.7,0.2),textcoords='axes fraction')\n",
    "    \n",
    "    #### print regression details\n",
    "    if ols_output == True:\n",
    "        print(lm1.summary2())\n",
    "        print(lm2.summary2())\n",
    "    \n",
    "    return(lm1,lm2)\n",
    "\n",
    "lm1,lm2 = test_regressions_quarter(dta,2013,4,'v_6',xlog=True,y1log=False,y2log=True,\n",
    "                           ols_output=False,rm_outlier=True,outlier_plot=False)"
   ]
  },
  {
   "cell_type": "code",
   "execution_count": null,
   "metadata": {
    "collapsed": true
   },
   "outputs": [],
   "source": []
  },
  {
   "cell_type": "code",
   "execution_count": null,
   "metadata": {
    "collapsed": true
   },
   "outputs": [],
   "source": []
  },
  {
   "cell_type": "code",
   "execution_count": null,
   "metadata": {
    "collapsed": true
   },
   "outputs": [],
   "source": []
  },
  {
   "cell_type": "code",
   "execution_count": null,
   "metadata": {
    "collapsed": true
   },
   "outputs": [],
   "source": []
  },
  {
   "cell_type": "code",
   "execution_count": 21,
   "metadata": {
    "collapsed": false
   },
   "outputs": [
    {
     "data": {
      "text/plain": [
       "0.48062459362791665"
      ]
     },
     "execution_count": 21,
     "metadata": {},
     "output_type": "execute_result"
    }
   ],
   "source": [
    "np.sqrt(0.231)"
   ]
  },
  {
   "cell_type": "code",
   "execution_count": 40,
   "metadata": {
    "collapsed": false
   },
   "outputs": [
    {
     "data": {
      "text/plain": [
       "0.42502804461476751"
      ]
     },
     "execution_count": 40,
     "metadata": {},
     "output_type": "execute_result"
    }
   ],
   "source": [
    "np.sqrt(lm2.rsquared)"
   ]
  },
  {
   "cell_type": "code",
   "execution_count": 47,
   "metadata": {
    "collapsed": false
   },
   "outputs": [
    {
     "data": {
      "text/plain": [
       "1.2160389408341794e-07"
      ]
     },
     "execution_count": 47,
     "metadata": {},
     "output_type": "execute_result"
    }
   ],
   "source": [
    "float(lm2.pvalues.ix['v_3'])"
   ]
  },
  {
   "cell_type": "code",
   "execution_count": 59,
   "metadata": {
    "collapsed": false
   },
   "outputs": [
    {
     "data": {
      "text/plain": [
       "Intercept   -2.804999\n",
       "v_3          0.491816\n",
       "dtype: float64"
      ]
     },
     "execution_count": 59,
     "metadata": {},
     "output_type": "execute_result"
    }
   ],
   "source": [
    "lm2.params"
   ]
  },
  {
   "cell_type": "code",
   "execution_count": 109,
   "metadata": {
    "collapsed": false
   },
   "outputs": [
    {
     "data": {
      "text/plain": [
       "'0.6841'"
      ]
     },
     "execution_count": 109,
     "metadata": {},
     "output_type": "execute_result"
    }
   ],
   "source": [
    "\"{:.4f}\".format(lm1.pvalues.ix['v_3'])"
   ]
  },
  {
   "cell_type": "code",
   "execution_count": null,
   "metadata": {
    "collapsed": false
   },
   "outputs": [],
   "source": [
    "break"
   ]
  },
  {
   "cell_type": "markdown",
   "metadata": {},
   "source": [
    "#### edit notebook settings for inf scrolling of output "
   ]
  },
  {
   "cell_type": "code",
   "execution_count": null,
   "metadata": {
    "collapsed": false
   },
   "outputs": [],
   "source": [
    "%%javascript\n",
    "IPython.OutputArea.auto_scroll_threshold = 999;"
   ]
  },
  {
   "cell_type": "code",
   "execution_count": null,
   "metadata": {
    "collapsed": true
   },
   "outputs": [],
   "source": []
  },
  {
   "cell_type": "code",
   "execution_count": null,
   "metadata": {
    "collapsed": false
   },
   "outputs": [],
   "source": [
    "plot_outliers(dta,2011,3,'v_5',outlier_plot=True)"
   ]
  },
  {
   "cell_type": "code",
   "execution_count": null,
   "metadata": {
    "collapsed": false
   },
   "outputs": [],
   "source": [
    "sm.stats.anova_lm(lm1,typ=3)"
   ]
  },
  {
   "cell_type": "code",
   "execution_count": null,
   "metadata": {
    "collapsed": false
   },
   "outputs": [],
   "source": [
    "0.044-0.0629*0.16"
   ]
  },
  {
   "cell_type": "code",
   "execution_count": null,
   "metadata": {
    "collapsed": false
   },
   "outputs": [],
   "source": [
    "np.exp(-4.055)-0.274*0.16"
   ]
  },
  {
   "cell_type": "code",
   "execution_count": null,
   "metadata": {
    "collapsed": false
   },
   "outputs": [],
   "source": [
    "np.exp(-4.055)"
   ]
  },
  {
   "cell_type": "code",
   "execution_count": null,
   "metadata": {
    "collapsed": false
   },
   "outputs": [],
   "source": [
    "0.022-0.006*np.log(0.16)"
   ]
  },
  {
   "cell_type": "markdown",
   "metadata": {},
   "source": [
    "# Meta-analyses"
   ]
  },
  {
   "cell_type": "markdown",
   "metadata": {},
   "source": [
    "## All variables"
   ]
  },
  {
   "cell_type": "code",
   "execution_count": null,
   "metadata": {
    "collapsed": false
   },
   "outputs": [],
   "source": [
    "def meta_comparison_vars(df,year,quarter,y_var,xlog=False,y1log=False,y2log=False):\n",
    "    \"\"\"function to call a scatter plot, comparing all variables in a given time period\n",
    "    \n",
    "    \"\"\"\n",
    "    ####\n",
    "    #### define the dependent variables\n",
    "    y_var1 = 'v_4hr_targ'\n",
    "    \n",
    "    #### filter for quarter and year\n",
    "    dff = df[(df['year'] == year) & (df['quarter'] == quarter)].copy()\n",
    "       \n",
    "    #### optionality for taking ln of variables\n",
    "    if xlog == True:\n",
    "        dff[x_var] = np.log(dff[x_var])\n",
    "    \n",
    "    if y1log == True:\n",
    "        dff[y_var1] = np.log(dff[y_var1])\n",
    "    \n",
    "    if y2log == True:\n",
    "        dff[y_var2] = np.log(dff[y_var2])\n",
    "    \n",
    "    #### Remove rows containing nan in x_var column (otherwise error with ln calcs)\n",
    "    dff.replace([np.inf, -np.inf], np.nan, inplace=True)\n",
    "    dff = dff[dff[x_var].notnull()]\n",
    "    \n",
    "    return\n",
    "    \n",
    "meta_comparison_vars(dta,2015,1,'v_4hr_targ',xlog=True,y1log=True,y2log=True)"
   ]
  },
  {
   "cell_type": "code",
   "execution_count": null,
   "metadata": {
    "collapsed": true
   },
   "outputs": [],
   "source": []
  },
  {
   "cell_type": "code",
   "execution_count": null,
   "metadata": {
    "collapsed": true
   },
   "outputs": [],
   "source": []
  },
  {
   "cell_type": "code",
   "execution_count": null,
   "metadata": {
    "collapsed": true
   },
   "outputs": [],
   "source": [
    "def scatter_comparison_v2(df,year_req,quarter_req,ivar,prob_vars):\n",
    "    \"\"\"function to call scatter plot, comparing different variables for a specified time period\n",
    "    \n",
    "    inputs:\n",
    "    year_req (as string)\n",
    "    quarter_req (as string)\n",
    "    ivar: choose indep var (e.g. v1)\n",
    "    prob_vars: used to give string of var name to remove from data (as high r^2 value)\n",
    "    \n",
    "    _v2 normalises all variables to the MAX value of a given Time period in order for better comparison\n",
    "    \"\"\"\n",
    "    ##### filter entire df for specified time periods\n",
    "    tmp = df.query('year == '+ year_req +' and quarter == ' + quarter_req)\n",
    "    \n",
    "    ##### get list of variables\n",
    "    vars_list = list(tmp.columns[3:].values) # get all v's (note will change if df changes shape)\n",
    "    ## remove ivar from this list\n",
    "    vars_list.remove(ivar)\n",
    "    vars_list.remove(prob_vars)\n",
    "    \n",
    "    #add function here which can normalise each of the variables to the MAX of itself for comparison\n",
    "    \n",
    "    \n",
    "    #tmp['v2'] = tmp['v2'].values/tmp['v2'].values.max()\n",
    "    \n",
    "    ##### initialize new df for regression calcs\n",
    "    df_coef = pd.DataFrame(columns = ['var_name','cons','gradient','ci_u','ci_l','r2'])\n",
    "    \n",
    "    ##### loop through dvs and calc values and input into df\n",
    "    i = 0\n",
    "    for dvar in vars_list:\n",
    "        \n",
    "        # get df with only iv and dv in\n",
    "        tmp2 = tmp[[ivar,dvar]]\n",
    "        \n",
    "        #remove nans\n",
    "        tmp2 = tmp2.dropna(axis=0,how='any')\n",
    "        # normalise values so that can compare on same axes sensibly!!!\n",
    "        tmp2[dvar] = tmp2[dvar].values / tmp2[dvar].values.max()\n",
    "        \n",
    "        #calculate values of regression\n",
    "        \n",
    "        y = tmp2[ivar].values\n",
    "        X = sm.add_constant(tmp2[dvar].values) # need to add a const value within X array apparently!!\n",
    "        model = sm.OLS(y, X)\n",
    "        results = model.fit()\n",
    "        #print(results.summary())\n",
    "        results.params\n",
    "        \n",
    "        #enter values into df\n",
    "        df_coef.loc[i] = [dvar,\n",
    "                          results.params[0],results.params[1],\n",
    "                          results.conf_int()[1][1],results.conf_int()[1][0],\n",
    "                          results.rsquared\n",
    "                         ]\n",
    "        \n",
    "        # add to i (for df_coef indexing)\n",
    "        i += 1\n",
    "    \n",
    "    ##### Create Scatter\n",
    "    \n",
    "    ## make groups\n",
    "    ED_perf = ['v1','v2','v3','v4','v5','v6','v7','v8','v9']\n",
    "    mort_ind = ['v10','v11','v12','v13','v14','v15','v16','v17','v18','v19']\n",
    "    re_atten = ['v20','v21','v22','v23','v24','v25','v26','v27','v28','v29']\n",
    "    bed_avail = ['v30','v31','v32','v33','v34','v35','v36','v37','v38','v39']\n",
    "    del_trans = ['v40','v41','v42','v43','v44','v45','v46','v47','v48','v49']\n",
    "    hosp_activ = ['v50','v51','v52','v53','v54','v55','v56','v57','v58','v59']\n",
    "    \n",
    "    #create axes\n",
    "    fig, axs = plt.subplots(1,2,figsize=(14, 8))\n",
    "    \n",
    "    ## create handle for first axes\n",
    "    ax = axs[0]\n",
    "    \n",
    "    #plot all vals\n",
    "    ax.scatter(df_coef.gradient.values, df_coef.r2.values,s=50,label='others')\n",
    "    #plot individual groups of vars\n",
    "    ax.scatter(df_coef[df_coef['var_name'].isin(ED_perf)].gradient.values,\n",
    "               df_coef[df_coef['var_name'].isin(ED_perf)].r2.values,s=50,\n",
    "               color='r',label ='ED_perf')\n",
    "    \n",
    "    ax.scatter(df_coef[df_coef['var_name'].isin(mort_ind)].gradient.values,\n",
    "               df_coef[df_coef['var_name'].isin(mort_ind)].r2.values,s=50,\n",
    "               color='g',label ='mort_ind')\n",
    "    \n",
    "    ax.scatter(df_coef[df_coef['var_name'].isin(re_atten)].gradient.values,\n",
    "               df_coef[df_coef['var_name'].isin(re_atten)].r2.values,s=50,\n",
    "               color='c',label ='re_atten')\n",
    "    \n",
    "    ax.scatter(df_coef[df_coef['var_name'].isin(bed_avail)].gradient.values,\n",
    "               df_coef[df_coef['var_name'].isin(bed_avail)].r2.values,s=50,\n",
    "               color='m',label ='bed_avail')\n",
    "    \n",
    "    ax.scatter(df_coef[df_coef['var_name'].isin(del_trans)].gradient.values,\n",
    "               df_coef[df_coef['var_name'].isin(del_trans)].r2.values,s=50,\n",
    "               color='y',label ='del_trans')\n",
    "    \n",
    "    ax.scatter(df_coef[df_coef['var_name'].isin(hosp_activ)].gradient.values,\n",
    "               df_coef[df_coef['var_name'].isin(hosp_activ)].r2.values,s=50,\n",
    "               color='w',label ='hosp_activ')\n",
    "    \n",
    "    #create x-error var\n",
    "    error_x = [(df_coef.gradient.values - df_coef.ci_u.values),(df_coef.ci_l.values - df_coef.gradient.values)]\n",
    "    #plot error bars\n",
    "    ax.errorbar(df_coef.gradient.values, df_coef.r2.values, xerr = error_x, yerr=None,ls='none',linewidth=1,color='k')\n",
    "    ax.set_xlabel('OLS gradient')\n",
    "    ax.set_ylabel('OLS R^2 value')\n",
    "    ax.set_title('Reg coefs for: year ' + year_req+ ', Q' + quarter_req)\n",
    "    ax.axvline(0,color= 'r',linewidth=0.5)\n",
    "    plt.ylim(ymin = -0.001, ymax = (df_coef.r2.max() + 0.01) )\n",
    "    \n",
    "    ax.legend(loc='best',frameon= True)\n",
    "    \n",
    "    ## create handle for first axes\n",
    "    ax = axs[1]\n",
    "    \n",
    "    #plot all vals\n",
    "    ax.scatter(df_coef.gradient.values, df_coef.r2.values,s=50,label='others')\n",
    "    #plot individual groups of vars\n",
    "    ax.scatter(df_coef[df_coef['var_name'].isin(ED_perf)].gradient.values,\n",
    "               df_coef[df_coef['var_name'].isin(ED_perf)].r2.values,s=50,\n",
    "               color='r',label ='ED_perf')\n",
    "    \n",
    "    ax.scatter(df_coef[df_coef['var_name'].isin(mort_ind)].gradient.values,\n",
    "               df_coef[df_coef['var_name'].isin(mort_ind)].r2.values,s=50,\n",
    "               color='g',label ='mort_ind')\n",
    "    \n",
    "    ax.scatter(df_coef[df_coef['var_name'].isin(re_atten)].gradient.values,\n",
    "               df_coef[df_coef['var_name'].isin(re_atten)].r2.values,s=50,\n",
    "               color='c',label ='re_atten')\n",
    "    \n",
    "    ax.scatter(df_coef[df_coef['var_name'].isin(bed_avail)].gradient.values,\n",
    "               df_coef[df_coef['var_name'].isin(bed_avail)].r2.values,s=50,\n",
    "               color='m',label ='bed_avail')\n",
    "    \n",
    "    ax.scatter(df_coef[df_coef['var_name'].isin(del_trans)].gradient.values,\n",
    "               df_coef[df_coef['var_name'].isin(del_trans)].r2.values,s=50,\n",
    "               color='y',label ='del_trans')\n",
    "    \n",
    "    ax.scatter(df_coef[df_coef['var_name'].isin(hosp_activ)].gradient.values,\n",
    "               df_coef[df_coef['var_name'].isin(hosp_activ)].r2.values,s=50,\n",
    "               color='w',label ='hosp_activ')\n",
    "    \n",
    "    #create x-error var\n",
    "    error_x = [(df_coef.gradient.values - df_coef.ci_u.values),(df_coef.ci_l.values - df_coef.gradient.values)]\n",
    "    #plot error bars\n",
    "    ax.errorbar(df_coef.gradient.values, df_coef.r2.values, xerr = error_x, yerr=None,ls='none',linewidth=1,color='k')\n",
    "    ax.set_xlabel('OLS gradient')\n",
    "    ax.set_ylabel('OLS R^2 value')\n",
    "    ax.set_title('Reg coefs for: year ' + year_req+ ', Q' + quarter_req)\n",
    "    ax.axvline(0,color= 'r',linewidth=0.5)\n",
    "    plt.ylim(ymin = -0.001, ymax = (0.025) )\n",
    "    \n",
    "    ax.legend(loc='best',frameon= True)\n",
    "    \n",
    "    print(df_coef)\n",
    "    \n",
    "    return(df_coef)"
   ]
  },
  {
   "cell_type": "code",
   "execution_count": null,
   "metadata": {
    "collapsed": false
   },
   "outputs": [],
   "source": [
    "scatter_comparison_v2(dta,2015,'1','v_4hr_targ','v_3')"
   ]
  },
  {
   "cell_type": "code",
   "execution_count": null,
   "metadata": {
    "collapsed": true
   },
   "outputs": [],
   "source": []
  },
  {
   "cell_type": "markdown",
   "metadata": {},
   "source": [
    "# First regresion"
   ]
  },
  {
   "cell_type": "code",
   "execution_count": null,
   "metadata": {
    "collapsed": true
   },
   "outputs": [],
   "source": []
  },
  {
   "cell_type": "code",
   "execution_count": null,
   "metadata": {
    "collapsed": true
   },
   "outputs": [],
   "source": [
    "import statsmodels.formula.api as smf"
   ]
  },
  {
   "cell_type": "markdown",
   "metadata": {},
   "source": [
    "### Choose data quarter"
   ]
  },
  {
   "cell_type": "markdown",
   "metadata": {},
   "source": [
    "#### filter by year only"
   ]
  },
  {
   "cell_type": "code",
   "execution_count": null,
   "metadata": {
    "collapsed": false
   },
   "outputs": [],
   "source": [
    "\n",
    "dta[dta['year'] == 2015].shape"
   ]
  },
  {
   "cell_type": "markdown",
   "metadata": {},
   "source": [
    "#### FIlter by year and quarter"
   ]
  },
  {
   "cell_type": "code",
   "execution_count": null,
   "metadata": {
    "collapsed": false
   },
   "outputs": [],
   "source": [
    "dta_f = dta[(dta['year'] == 2015) & (dta['quarter'] == 1.0)]"
   ]
  },
  {
   "cell_type": "code",
   "execution_count": null,
   "metadata": {
    "collapsed": false
   },
   "outputs": [],
   "source": [
    "dta_f.head()"
   ]
  },
  {
   "cell_type": "markdown",
   "metadata": {},
   "source": [
    "#### choose variable"
   ]
  },
  {
   "cell_type": "code",
   "execution_count": null,
   "metadata": {
    "collapsed": true
   },
   "outputs": [],
   "source": [
    "x_var = 'v_6'#'v30_daybed_occ_perc' #v33_nightbed_occ_perc\n",
    "y_var = 'v_1'"
   ]
  },
  {
   "cell_type": "code",
   "execution_count": null,
   "metadata": {
    "collapsed": false
   },
   "outputs": [],
   "source": [
    "lm = smf.ols(formula= y_var +' ~ ' + x_var, data=dta_f).fit()\n",
    "\n"
   ]
  },
  {
   "cell_type": "code",
   "execution_count": null,
   "metadata": {
    "collapsed": false
   },
   "outputs": [],
   "source": [
    "lm.params"
   ]
  },
  {
   "cell_type": "markdown",
   "metadata": {},
   "source": [
    "#### calc values for plot"
   ]
  },
  {
   "cell_type": "markdown",
   "metadata": {},
   "source": [
    "X_new = pd.DataFrame({x_var: [dta_f[x_var].min(), dta_f[x_var].max()]})\n",
    "X_new.head()"
   ]
  },
  {
   "cell_type": "code",
   "execution_count": null,
   "metadata": {
    "collapsed": true
   },
   "outputs": [],
   "source": [
    "import patsy"
   ]
  },
  {
   "cell_type": "code",
   "execution_count": null,
   "metadata": {
    "collapsed": false
   },
   "outputs": [],
   "source": [
    "preds"
   ]
  },
  {
   "cell_type": "code",
   "execution_count": null,
   "metadata": {
    "collapsed": false
   },
   "outputs": [],
   "source": [
    "np.empty()"
   ]
  },
  {
   "cell_type": "code",
   "execution_count": null,
   "metadata": {
    "collapsed": false
   },
   "outputs": [],
   "source": [
    "y = patsy.dmatrix()"
   ]
  },
  {
   "cell_type": "code",
   "execution_count": null,
   "metadata": {
    "collapsed": false
   },
   "outputs": [],
   "source": [
    "#dta_f.sort_values(x_var,inplace=True)\n",
    "x = []\n",
    "preds = []\n",
    "x = patsy.dmatrix(x_var, data=dta_f) \n",
    "preds = lm.predict(x, transform=False)\n",
    "#preds"
   ]
  },
  {
   "cell_type": "code",
   "execution_count": null,
   "metadata": {
    "collapsed": false
   },
   "outputs": [],
   "source": [
    "x"
   ]
  },
  {
   "cell_type": "code",
   "execution_count": null,
   "metadata": {
    "collapsed": false
   },
   "outputs": [],
   "source": [
    "preds"
   ]
  },
  {
   "cell_type": "code",
   "execution_count": null,
   "metadata": {
    "collapsed": false
   },
   "outputs": [],
   "source": [
    "\n",
    "fig1 = plt.figure(figsize=(16,12))\n",
    "\n",
    "#### scatter and regression line\n",
    "ax1 = plt.subplot(221)\n",
    "ax1.scatter(x=dta_f[x_var], y = dta_f[y_var])\n",
    "ax1.plot(x[:,1],preds,c='red') #### [:,1] removes the constant line at x = 1.0\n",
    "\n",
    "#### histogram\n",
    "ax2 = plt.subplot(222)\n",
    "ax2 = dta_f[y_var].plot(kind = 'hist', bins = 50, yrot=True)\n",
    "ax2.axvline(dta_f[y_var].median(),color= 'r',label='median')\n",
    "#ax2.set_xlabel(y_varn)\n",
    "ax2 = dta_f[y_var].plot(kind='kde', grid=False,label='KDE')\n",
    "#ax2.legend(loc='upper left',frameon= True)\n",
    "#ax2.set_title('distribution of: %s' % (dv1_n))\n",
    "\n",
    "#### histogram\n",
    "ax3 = plt.subplot(223)\n",
    "#ax3 = dta_f[x_var].plot(kind = 'hist', bins = 50)\n",
    "ax3.dta_f[x_var].hist()\n",
    "ax3.axvline(dta_f[x_var].median(),color= 'r',label='median')\n",
    "#ax2.set_xlabel(y_varn)\n",
    "ax3 = dta_f[x_var].plot(kind='kde', grid=False,label='KDE')\n",
    "#ax2.legend(loc='upper left',frameon= True)\n",
    "#ax2.set_title('distribution of: %s' % (dv1_n))\n",
    "\n",
    "ax4 = plt.subplot(224)\n",
    "#sm.graphics.qqplot(lm.resid_pearson, line = '45', ax =ax4)\n",
    "\n",
    "#scatter\n",
    "#dta_f.plot(kind='scatter',x=x_var, y = 'v1_4hr_target')\n",
    "\n",
    "#regression line\n",
    "#plt.plot(x[:,1],preds,c='red') #### [:,1] removes the constant line at x = 1.0"
   ]
  },
  {
   "cell_type": "code",
   "execution_count": null,
   "metadata": {
    "collapsed": false
   },
   "outputs": [],
   "source": [
    "lm.summary()"
   ]
  },
  {
   "cell_type": "markdown",
   "metadata": {},
   "source": [
    "#### need to chek that plot below usually uses pearson residuals!!"
   ]
  },
  {
   "cell_type": "code",
   "execution_count": null,
   "metadata": {
    "collapsed": false
   },
   "outputs": [],
   "source": [
    "sm.graphics.qqplot(lm.resid_pearson, line = '45')"
   ]
  },
  {
   "cell_type": "code",
   "execution_count": null,
   "metadata": {
    "collapsed": false
   },
   "outputs": [],
   "source": [
    "lm.resid_pearson.shape"
   ]
  },
  {
   "cell_type": "code",
   "execution_count": null,
   "metadata": {
    "collapsed": false
   },
   "outputs": [],
   "source": [
    "dta_f[y_var].shape"
   ]
  },
  {
   "cell_type": "code",
   "execution_count": null,
   "metadata": {
    "collapsed": false
   },
   "outputs": [],
   "source": [
    "plt.scatter(dta_f[y_var], lm.resid_pearson)"
   ]
  },
  {
   "cell_type": "code",
   "execution_count": null,
   "metadata": {
    "collapsed": true
   },
   "outputs": [],
   "source": []
  },
  {
   "cell_type": "code",
   "execution_count": null,
   "metadata": {
    "collapsed": false
   },
   "outputs": [],
   "source": [
    "sm.graphics.plot_leverage_resid2(lm)"
   ]
  },
  {
   "cell_type": "markdown",
   "metadata": {},
   "source": [
    "# Dev"
   ]
  },
  {
   "cell_type": "markdown",
   "metadata": {},
   "source": [
    "Quarterly data much more variant"
   ]
  },
  {
   "cell_type": "code",
   "execution_count": null,
   "metadata": {
    "collapsed": false
   },
   "outputs": [],
   "source": [
    "dta.groupby(['year','quarter']).median()[['v1_4hr_target', 'v2_adm_ratio',\n",
    "       'v3_adm_ratio_ED', 'v4_adm_ratio_other', 'v5_adm_4hr_target']].plot() #(x='year',)"
   ]
  },
  {
   "cell_type": "markdown",
   "metadata": {
    "collapsed": true
   },
   "source": [
    "### Run R from python testing"
   ]
  },
  {
   "cell_type": "code",
   "execution_count": null,
   "metadata": {
    "collapsed": true
   },
   "outputs": [],
   "source": [
    "import subprocess"
   ]
  },
  {
   "cell_type": "code",
   "execution_count": null,
   "metadata": {
    "collapsed": false
   },
   "outputs": [],
   "source": [
    "!cat \"C:\\Users\\bjk1y13\\OneDrive\\Documents\\20170113_AandE\\4_Analysis\\4-1_Active\\max.R\""
   ]
  },
  {
   "cell_type": "code",
   "execution_count": null,
   "metadata": {
    "collapsed": false
   },
   "outputs": [],
   "source": [
    "# Define command and arguments\n",
    "command = 'Rscript'\n",
    "path2script = \"C:/Users/bjk1y13/OneDrive/Documents/20170113_AandE/4_Analysis/4-1_Active/max.R\"\n",
    "\n",
    "# Variable number of args in a list\n",
    "args = ['11', '3', '9', '42']\n",
    "\n",
    "# Build subprocess command\n",
    "cmd = [command, path2script] + args\n",
    "\n",
    "# check_output will run the command and store to result\n",
    "x = subprocess.check_output(cmd, universal_newlines=True)\n",
    "\n",
    "print('The maximum of the numbers is:', x)"
   ]
  },
  {
   "cell_type": "code",
   "execution_count": null,
   "metadata": {
    "collapsed": false
   },
   "outputs": [],
   "source": [
    "# Create an example dataframe about a fictional army\n",
    "raw_data = {'regiment': ['Nighthawks', 'Nighthawks', 'Nighthawks', 'Nighthawks', 'Dragoons', 'Dragoons', 'Dragoons', 'Dragoons', 'Scouts', 'Scouts', 'Scouts', 'Scouts'],\n",
    "            'company': ['1st', '1st', '2nd', '2nd', '1st', '1st', '2nd', '2nd','1st', '1st', '2nd', '2nd'],\n",
    "            'deaths': [523, 52, 25, 616, 43, 234, 523, 62, 62, 73, 37, 35],\n",
    "            'battles': [5, 42, 2, 2, 4, 7, 8, 3, 4, 7, 8, 9],\n",
    "            'size': [1045, 957, 1099, 1400, 1592, 1006, 987, 849, 973, 1005, 1099, 1523],\n",
    "            'veterans': [1, 5, 62, 26, 73, 37, 949, 48, 48, 435, 63, 345],\n",
    "            'readiness': [1, 2, 3, 3, 2, 1, 2, 3, 2, 1, 2, 3],\n",
    "            'armored': [1, 0, 1, 1, 0, 1, 0, 1, 0, 0, 1, 1],\n",
    "            'deserters': [4, 24, 31, 2, 3, 4, 24, 31, 2, 3, 2, 3],\n",
    "            'origin': ['Arizona', 'California', 'Texas', 'Florida', 'Maine', 'Iowa', 'Alaska', 'Washington', 'Oregon', 'Wyoming', 'Louisana', 'Georgia']}\n",
    "\n",
    "df = pd.DataFrame(raw_data, columns = ['regiment', 'company', 'deaths', 'battles', 'size', 'veterans', 'readiness', 'armored', 'deserters', 'origin'])\n",
    "\n",
    "df = df.set_index('origin')\n",
    "\n",
    "df"
   ]
  },
  {
   "cell_type": "code",
   "execution_count": null,
   "metadata": {
    "collapsed": false
   },
   "outputs": [],
   "source": [
    "df.sort(columns=['size'])"
   ]
  },
  {
   "cell_type": "code",
   "execution_count": null,
   "metadata": {
    "collapsed": false
   },
   "outputs": [],
   "source": [
    "df.sort(['size'])[0:1]['size'].values[0]"
   ]
  },
  {
   "cell_type": "code",
   "execution_count": null,
   "metadata": {
    "collapsed": false
   },
   "outputs": [],
   "source": [
    "df['size'] > df.sort(['size'])[0:1]['size'].values[0] & df['size'] < df.sort(['size'])[-1:]['size'].values[0]"
   ]
  },
  {
   "cell_type": "code",
   "execution_count": null,
   "metadata": {
    "collapsed": false
   },
   "outputs": [],
   "source": [
    "df.sort(columns=['size'])[1:-1].index"
   ]
  },
  {
   "cell_type": "code",
   "execution_count": null,
   "metadata": {
    "collapsed": true
   },
   "outputs": [],
   "source": []
  }
 ],
 "metadata": {
  "kernelspec": {
   "display_name": "Python 3",
   "language": "python",
   "name": "python3"
  },
  "language_info": {
   "codemirror_mode": {
    "name": "ipython",
    "version": 3
   },
   "file_extension": ".py",
   "mimetype": "text/x-python",
   "name": "python",
   "nbconvert_exporter": "python",
   "pygments_lexer": "ipython3",
   "version": "3.6.0"
  }
 },
 "nbformat": 4,
 "nbformat_minor": 2
}
